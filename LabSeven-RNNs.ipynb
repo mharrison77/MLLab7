{
 "cells": [
  {
   "cell_type": "markdown",
   "id": "13877fc9-720b-4c4d-bbdb-34fe5c168e45",
   "metadata": {},
   "source": [
    "# Lab Seven: RNNs"
   ]
  },
  {
   "cell_type": "markdown",
   "id": "16cafae8-8644-4ecb-98dd-75cc82f5f374",
   "metadata": {},
   "source": [
    "### Maria Harrison, Garrett Webb, Jackson Heck"
   ]
  },
  {
   "cell_type": "markdown",
   "id": "f4bf5a75-a79e-4d52-9f59-b6b5d206aca3",
   "metadata": {},
   "source": [
    "## 1. Preparation"
   ]
  },
  {
   "cell_type": "markdown",
   "id": "46defd9e-c005-40a4-9128-b2a8d2ad4d88",
   "metadata": {},
   "source": [
    "[2 points] Define and prepare your data set. Provide details about the source of the data. Discuss methods of tokenization in your dataset as well as any decisions to force a specific length of sequence.  Also discuss your rationale for the size and nature of your vocabulary."
   ]
  },
  {
   "cell_type": "markdown",
   "id": "2904a8a9-a7ea-47f2-96aa-5b36f06686ef",
   "metadata": {},
   "source": [
    "We chose a small subset of a dataset of book reviews from the Amazon Kindle Store. The dataset contains 12,000 samples. Each sample contains a rating and the review text of the product. We will be performing sentiment analysis (many-to-one).\n",
    "\n",
    "Dataset source: https://www.kaggle.com/datasets/meetnagadia/amazon-kindle-book-review-for-sentiment-analysis"
   ]
  },
  {
   "cell_type": "code",
   "execution_count": 67,
   "id": "83a06381-5b2a-4ecf-a91e-4dd0b5ae745b",
   "metadata": {},
   "outputs": [
    {
     "data": {
      "text/html": [
       "<div>\n",
       "<style scoped>\n",
       "    .dataframe tbody tr th:only-of-type {\n",
       "        vertical-align: middle;\n",
       "    }\n",
       "\n",
       "    .dataframe tbody tr th {\n",
       "        vertical-align: top;\n",
       "    }\n",
       "\n",
       "    .dataframe thead th {\n",
       "        text-align: right;\n",
       "    }\n",
       "</style>\n",
       "<table border=\"1\" class=\"dataframe\">\n",
       "  <thead>\n",
       "    <tr style=\"text-align: right;\">\n",
       "      <th></th>\n",
       "      <th>Unnamed: 0</th>\n",
       "      <th>rating</th>\n",
       "      <th>reviewText</th>\n",
       "      <th>summary</th>\n",
       "    </tr>\n",
       "  </thead>\n",
       "  <tbody>\n",
       "    <tr>\n",
       "      <th>0</th>\n",
       "      <td>0</td>\n",
       "      <td>5</td>\n",
       "      <td>This book was the very first bookmobile book I...</td>\n",
       "      <td>50 + years ago...</td>\n",
       "    </tr>\n",
       "    <tr>\n",
       "      <th>1</th>\n",
       "      <td>1</td>\n",
       "      <td>1</td>\n",
       "      <td>When I read the description for this book, I c...</td>\n",
       "      <td>Boring! Boring! Boring!</td>\n",
       "    </tr>\n",
       "    <tr>\n",
       "      <th>2</th>\n",
       "      <td>2</td>\n",
       "      <td>5</td>\n",
       "      <td>I just had to edit this review. This book is a...</td>\n",
       "      <td>Wiggleliscious/new toy ready/!!</td>\n",
       "    </tr>\n",
       "    <tr>\n",
       "      <th>3</th>\n",
       "      <td>3</td>\n",
       "      <td>5</td>\n",
       "      <td>I don't normally buy 'mystery' novels because ...</td>\n",
       "      <td>Very good read.</td>\n",
       "    </tr>\n",
       "    <tr>\n",
       "      <th>4</th>\n",
       "      <td>4</td>\n",
       "      <td>5</td>\n",
       "      <td>This isn't the kind of book I normally read, a...</td>\n",
       "      <td>Great Story!</td>\n",
       "    </tr>\n",
       "  </tbody>\n",
       "</table>\n",
       "</div>"
      ],
      "text/plain": [
       "   Unnamed: 0  rating                                         reviewText  \\\n",
       "0           0       5  This book was the very first bookmobile book I...   \n",
       "1           1       1  When I read the description for this book, I c...   \n",
       "2           2       5  I just had to edit this review. This book is a...   \n",
       "3           3       5  I don't normally buy 'mystery' novels because ...   \n",
       "4           4       5  This isn't the kind of book I normally read, a...   \n",
       "\n",
       "                           summary  \n",
       "0                50 + years ago...  \n",
       "1          Boring! Boring! Boring!  \n",
       "2  Wiggleliscious/new toy ready/!!  \n",
       "3                  Very good read.  \n",
       "4                     Great Story!  "
      ]
     },
     "execution_count": 67,
     "metadata": {},
     "output_type": "execute_result"
    }
   ],
   "source": [
    "import numpy as np\n",
    "import pandas as pd\n",
    "\n",
    "# load dataset\n",
    "df = pd.read_csv('/Users/marycateharrison/Library/Mobile Documents/com~apple~CloudDocs/SMU/spring-2023/machine-learning/preprocessed_kindle_review .csv')\n",
    "# view sample of dataset\n",
    "df.head()"
   ]
  },
  {
   "cell_type": "code",
   "execution_count": 68,
   "id": "9c8f59b3-6beb-400c-b3ca-c6f5be34beb8",
   "metadata": {},
   "outputs": [
    {
     "data": {
      "text/html": [
       "<div>\n",
       "<style scoped>\n",
       "    .dataframe tbody tr th:only-of-type {\n",
       "        vertical-align: middle;\n",
       "    }\n",
       "\n",
       "    .dataframe tbody tr th {\n",
       "        vertical-align: top;\n",
       "    }\n",
       "\n",
       "    .dataframe thead th {\n",
       "        text-align: right;\n",
       "    }\n",
       "</style>\n",
       "<table border=\"1\" class=\"dataframe\">\n",
       "  <thead>\n",
       "    <tr style=\"text-align: right;\">\n",
       "      <th></th>\n",
       "      <th>rating</th>\n",
       "      <th>reviewText</th>\n",
       "    </tr>\n",
       "  </thead>\n",
       "  <tbody>\n",
       "    <tr>\n",
       "      <th>0</th>\n",
       "      <td>5</td>\n",
       "      <td>This book was the very first bookmobile book I...</td>\n",
       "    </tr>\n",
       "    <tr>\n",
       "      <th>1</th>\n",
       "      <td>1</td>\n",
       "      <td>When I read the description for this book, I c...</td>\n",
       "    </tr>\n",
       "    <tr>\n",
       "      <th>2</th>\n",
       "      <td>5</td>\n",
       "      <td>I just had to edit this review. This book is a...</td>\n",
       "    </tr>\n",
       "    <tr>\n",
       "      <th>3</th>\n",
       "      <td>5</td>\n",
       "      <td>I don't normally buy 'mystery' novels because ...</td>\n",
       "    </tr>\n",
       "    <tr>\n",
       "      <th>4</th>\n",
       "      <td>5</td>\n",
       "      <td>This isn't the kind of book I normally read, a...</td>\n",
       "    </tr>\n",
       "  </tbody>\n",
       "</table>\n",
       "</div>"
      ],
      "text/plain": [
       "   rating                                         reviewText\n",
       "0       5  This book was the very first bookmobile book I...\n",
       "1       1  When I read the description for this book, I c...\n",
       "2       5  I just had to edit this review. This book is a...\n",
       "3       5  I don't normally buy 'mystery' novels because ...\n",
       "4       5  This isn't the kind of book I normally read, a..."
      ]
     },
     "execution_count": 68,
     "metadata": {},
     "output_type": "execute_result"
    }
   ],
   "source": [
    "# rename columns\n",
    "df = df.drop(columns=['Unnamed: 0', 'summary'])\n",
    "df.head()"
   ]
  },
  {
   "cell_type": "code",
   "execution_count": 69,
   "id": "3eebd28c-0afa-4177-a20f-50f42107ab2f",
   "metadata": {},
   "outputs": [],
   "source": [
    "# pos = 1, neg = 0\n",
    "df['rating'] = df['rating'].replace(to_replace=[1, 2, 3, 4, 5],value=[0, 0, 0, 1, 1])"
   ]
  },
  {
   "cell_type": "code",
   "execution_count": 83,
   "id": "97d8efc1-e792-41d3-8516-c77f159bc11f",
   "metadata": {},
   "outputs": [
    {
     "name": "stdout",
     "output_type": "stream",
     "text": [
      "6000\n",
      "6000\n"
     ]
    }
   ],
   "source": [
    "print(df['rating'].value_counts()[0])\n",
    "print(df['rating'].value_counts()[1])"
   ]
  },
  {
   "cell_type": "markdown",
   "id": "72753c6a-3cb3-4cec-9bc7-dbd4175f57ab",
   "metadata": {},
   "source": [
    "Next, I wanted to visualize the general word count of all the papers."
   ]
  },
  {
   "cell_type": "code",
   "execution_count": 75,
   "id": "b52e9d07-3302-4b40-94b9-c4769e47a25f",
   "metadata": {},
   "outputs": [
    {
     "name": "stdout",
     "output_type": "stream",
     "text": [
      "5020 2908 3834 226 11\n"
     ]
    }
   ],
   "source": [
    "text_numpy = df.reviewText.to_numpy()\n",
    "\n",
    "num_less_than_50 = 0\n",
    "num_less_than_100 = 0\n",
    "num_less_than_500 = 0\n",
    "num_less_than_1k = 0\n",
    "num_less_than_2k = 0\n",
    "\n",
    "for i in text_numpy:\n",
    "    if(len(i.split()) < 50):\n",
    "        num_less_than_50 +=1\n",
    "    elif(len(i.split()) < 100):\n",
    "        num_less_than_100 +=1\n",
    "    elif(len(i.split()) < 500):\n",
    "        num_less_than_500 +=1\n",
    "    elif(len(i.split()) < 1000):\n",
    "        num_less_than_1k += 1\n",
    "    elif(len(i.split()) < 2000):\n",
    "        num_less_than_2k += 1\n",
    "        \n",
    "print(num_less_than_50, num_less_than_100, num_less_than_500, num_less_than_1k, num_less_than_2k)"
   ]
  },
  {
   "cell_type": "markdown",
   "id": "b909b9a8-9421-4e9f-9fd7-659a8c8e3b94",
   "metadata": {},
   "source": [
    "It appears that most of the reviews are in the range of 0 to 500 words."
   ]
  },
  {
   "cell_type": "markdown",
   "id": "05d7273b-5836-4cb5-ad1d-d36fa93049f4",
   "metadata": {},
   "source": [
    "Discuss methods of tokenization in your dataset as well as any decisions to force a specific length of sequence.  "
   ]
  },
  {
   "cell_type": "code",
   "execution_count": 80,
   "id": "9bdbaecb-8e13-4f7b-a26f-58e08e93b111",
   "metadata": {},
   "outputs": [
    {
     "name": "stdout",
     "output_type": "stream",
     "text": [
      "Found 33056 unique tokens. Distilled to 33056 top words.\n",
      "Shape of data tensor: (12000, 500)\n",
      "Shape of label tensor: (12000, 2)\n",
      "33056\n",
      "CPU times: user 1.35 s, sys: 31.1 ms, total: 1.38 s\n",
      "Wall time: 1.4 s\n"
     ]
    }
   ],
   "source": [
    "%%time\n",
    "from tensorflow import keras\n",
    "from tensorflow.keras.preprocessing.text import Tokenizer\n",
    "from tensorflow.keras.preprocessing.sequence import pad_sequences\n",
    "\n",
    "X = df.reviewText.to_numpy()\n",
    "y = df['rating'].to_numpy()\n",
    "\n",
    "NUM_TOP_WORDS = None\n",
    "MAX_ART_LEN = 500 # max and min num of words\n",
    "\n",
    "tokenizer = Tokenizer(num_words=NUM_TOP_WORDS)\n",
    "tokenizer.fit_on_texts(X)\n",
    "sequences = tokenizer.texts_to_sequences(X)\n",
    "\n",
    "word_index = tokenizer.word_index\n",
    "NUM_TOP_WORDS = len(word_index) if NUM_TOP_WORDS==None else NUM_TOP_WORDS\n",
    "top_words = min((len(word_index),NUM_TOP_WORDS))\n",
    "print('Found %s unique tokens. Distilled to %d top words.' % (len(word_index),top_words))\n",
    "\n",
    "X = pad_sequences(sequences, maxlen=MAX_ART_LEN)\n",
    "\n",
    "NUM_CLASSES = 2\n",
    "\n",
    "y_ohe = keras.utils.to_categorical(y, NUM_CLASSES)\n",
    "print('Shape of data tensor:', X.shape)\n",
    "print('Shape of label tensor:', y_ohe.shape)\n",
    "print(np.max(X))"
   ]
  },
  {
   "cell_type": "markdown",
   "id": "38265a34-f918-4414-bcff-bfedbb26db9a",
   "metadata": {},
   "source": [
    "[0.5 points] Choose and explain what metric(s) you will use to evaluate your algorithm’s performance. You should give a detailed argument for why this (these) metric(s) are appropriate on your data. That is, why is the metric appropriate for the task (e.g., in terms of the business case for the task). Please note: rarely is accuracy the best evaluation metric to use. Think deeply about an appropriate measure of performance."
   ]
  },
  {
   "cell_type": "markdown",
   "id": "8c017c01-abcb-47d8-8c74-0a7ffe415a8b",
   "metadata": {},
   "source": []
  },
  {
   "cell_type": "markdown",
   "id": "78581eee-079c-4aff-8ff0-e6b6a7932897",
   "metadata": {},
   "source": [
    "[0.5 points] Choose the method you will use for dividing your data into training and testing (i.e., are you using Stratified 10-fold cross validation? Shuffle splits? Why?). Explain why your chosen method is appropriate or use more than one method as appropriate. Convince me that your train/test splitting method is a realistic mirroring of how an algorithm would be used in practice."
   ]
  },
  {
   "cell_type": "code",
   "execution_count": 81,
   "id": "fbeb8109-7a45-4450-80aa-1c7b70436b81",
   "metadata": {},
   "outputs": [
    {
     "name": "stdout",
     "output_type": "stream",
     "text": [
      "X_train Shape: (9600, 500) Label Shape: (9600, 2)\n"
     ]
    },
    {
     "data": {
      "image/png": "[encoded data removed]",
      "text/plain": [
       "<Figure size 640x480 with 1 Axes>"
      ]
     },
     "metadata": {},
     "output_type": "display_data"
    }
   ],
   "source": [
    "from sklearn.model_selection import train_test_split\n",
    "from sklearn import metrics as mt\n",
    "from matplotlib import pyplot as plt\n",
    "%matplotlib inline\n",
    "\n",
    "X_train, X_test, y_train_ohe, y_test_ohe = train_test_split(X, y_ohe, test_size=0.2,\n",
    "                                                            stratify=y)\n",
    "\n",
    "# print some stats of the data\n",
    "print(\"X_train Shape:\",X_train.shape, \"Label Shape:\", y_train_ohe.shape)\n",
    "uniq_classes = np.sum(y_train_ohe,axis=0)\n",
    "plt.bar(list(range(2)),uniq_classes)\n",
    "plt.xticks(list(range(2)), class_labels, rotation='vertical')\n",
    "plt.ylabel(\"Number of Instances in Each Class\")\n",
    "plt.show()"
   ]
  },
  {
   "cell_type": "markdown",
   "id": "d193c29e-72dc-4daf-980d-430451d105ed",
   "metadata": {},
   "source": [
    "## 2. Modeling"
   ]
  },
  {
   "cell_type": "markdown",
   "id": "e2a44fb9-b5cf-49ae-8470-e88bbb532721",
   "metadata": {},
   "source": [
    "[2 points] Investigate at least two different recurrent network architectures  Be sure to use an embedding layer . Adjust hyper-parameters of the networks as needed to improve generalization performance (train a total of at least four models). Discuss the performance of each network and compare them. Justify your choice of parameters for each."
   ]
  },
  {
   "cell_type": "code",
   "execution_count": 85,
   "id": "e0b80eed-935c-4ca3-981b-35ac6721ecef",
   "metadata": {},
   "outputs": [
    {
     "name": "stdout",
     "output_type": "stream",
     "text": [
      "Found 400000 word vectors.\n",
      "Embedding Shape: (33057, 200) \n",
      " Total words found: 26163 \n",
      " Percentage: 79.14511298665941\n",
      "CPU times: user 12.1 s, sys: 479 ms, total: 12.6 s\n",
      "Wall time: 12.7 s\n"
     ]
    }
   ],
   "source": [
    "%%time\n",
    "EMBED_SIZE = 200\n",
    "# the embed size should match the file you load glove from\n",
    "embeddings_index = {}\n",
    "f = open('/Users/marycateharrison/Library/Mobile Documents/com~apple~CloudDocs/SMU/spring-2023/machine-learning/glove.6B/glove.6B.200d.txt')\n",
    "# save key/array pairs of the embeddings\n",
    "#  the key of the dictionary is the word, the array is the embedding\n",
    "for line in f:\n",
    "    values = line.split()\n",
    "    word = values[0]\n",
    "    coefs = np.asarray(values[1:], dtype='float32')\n",
    "    embeddings_index[word] = coefs\n",
    "f.close()\n",
    "\n",
    "print('Found %s word vectors.' % len(embeddings_index))\n",
    "\n",
    "# now fill in the matrix, using the ordering from the\n",
    "#  keras word tokenizer from before\n",
    "found_words = 0\n",
    "embedding_matrix = np.zeros((len(word_index) + 1, EMBED_SIZE))\n",
    "for word, i in word_index.items():\n",
    "    embedding_vector = embeddings_index.get(word)\n",
    "    if embedding_vector is not None:\n",
    "        # words not found in embedding index will be ALL-ZEROS\n",
    "        embedding_matrix[i] = embedding_vector\n",
    "        found_words = found_words+1\n",
    "\n",
    "print(\"Embedding Shape:\",embedding_matrix.shape, \"\\n\",\n",
    "      \"Total words found:\",found_words, \"\\n\",\n",
    "      \"Percentage:\",100*found_words/embedding_matrix.shape[0])\n"
   ]
  },
  {
   "cell_type": "code",
   "execution_count": 92,
   "id": "0ab77686-127a-45c2-a237-ce187d8d4f1c",
   "metadata": {},
   "outputs": [],
   "source": [
    "from tensorflow.keras.layers import Embedding\n",
    "\n",
    "# save this embedding now\n",
    "embedding_layer = Embedding(len(word_index) + 1,\n",
    "                            EMBED_SIZE,\n",
    "                            weights=[embedding_matrix],# here is the embedding getting saved\n",
    "                            input_length=MAX_ART_LEN,\n",
    "                            trainable=False)"
   ]
  },
  {
   "cell_type": "code",
   "execution_count": 97,
   "id": "38a66e24-ec75-494c-bd0b-df9b41c15b1b",
   "metadata": {},
   "outputs": [],
   "source": [
    "def plot_history(history):\n",
    "    # summarize history for accuracy\n",
    "    plt.figure(figsize=(15,5))\n",
    "    plt.subplot(121)\n",
    "    plt.plot(history['accuracy'])\n",
    "    plt.plot(history['val_accuracy'])\n",
    "    plt.title('model accuracy')\n",
    "    plt.ylabel('accuracy')\n",
    "    plt.xlabel('epoch')\n",
    "    plt.legend(['train', 'test'], loc='upper left')\n",
    "\n",
    "    # summarize history for loss\n",
    "    plt.subplot(122)\n",
    "    plt.plot(history['loss'])\n",
    "    plt.plot(history['val_loss'])\n",
    "    plt.title('model loss')\n",
    "    plt.ylabel('loss')\n",
    "    plt.xlabel('epoch')\n",
    "    plt.legend(['train', 'test'], loc='upper left')\n",
    "    plt.show()"
   ]
  },
  {
   "cell_type": "code",
   "execution_count": 93,
   "id": "4b3cb2d9-2835-44b0-8300-8422fb3037cb",
   "metadata": {},
   "outputs": [],
   "source": [
    "from tensorflow.keras.layers import LSTM, GRU\n",
    "from tensorflow.keras.optimizers import Adam\n",
    "from tensorflow.keras.optimizers.schedules import ExponentialDecay\n",
    "\n",
    "lstm = Sequential()\n",
    "lstm.add(embedding_layer)\n",
    "lstm.add(LSTM(100, dropout=0.2, recurrent_dropout=.2))\n",
    "lstm.add(Dense(NUM_CLASSES, activation='sigmoid'))\n",
    "lstm.compile(loss='binary_crossentropy', \n",
    "              optimizer='rmsprop', \n",
    "              metrics=['accuracy'])\n",
    "\n",
    "gru = Sequential()\n",
    "gru.add(embedding_layer)\n",
    "gru.add(GRU(100, dropout=0.2, recurrent_dropout=0.2))\n",
    "gru.add(Dense(NUM_CLASSES, activation='sigmoid'))\n",
    "gru.compile(loss='binary_crossentropy', \n",
    "              optimizer= 'rmsprop', \n",
    "              metrics=['accuracy'])"
   ]
  },
  {
   "cell_type": "code",
   "execution_count": null,
   "id": "ff26c9eb-bda3-46b5-b350-04e9c8b85145",
   "metadata": {},
   "outputs": [],
   "source": [
    "history_lstm = []\n",
    "tmp = lstm.fit(X_train, y_train_ohe, validation_data=(X_test, y_test_ohe), epochs=6, batch_size=64)\n",
    "history_lstm.append(tmp)"
   ]
  },
  {
   "cell_type": "code",
   "execution_count": null,
   "id": "f762b4d2-801e-4535-82f9-0f0a0e719854",
   "metadata": {},
   "outputs": [],
   "source": [
    "history_gru = []\n",
    "tmp = gru.fit(X_train, y_train_ohe, validation_data=(X_test, y_test_ohe), epochs=6, batch_size=64)\n",
    "history_gru.append(tmp)"
   ]
  },
  {
   "cell_type": "code",
   "execution_count": null,
   "id": "b9027ce6-2926-4465-a3df-e4fc0f3d6212",
   "metadata": {},
   "outputs": [],
   "source": [
    "lstm_2 = Sequential()\n",
    "lstm_2.add(embedding_layer)\n",
    "lstm_2.add(LSTM(100, dropout=0.2, recurrent_dropout=.2))\n",
    "lstm_2.add(Dense(NUM_CLASSES, activation='relu'))\n",
    "lstm_2.compile(loss='binary_crossentropy', \n",
    "              optimizer='adam', \n",
    "              metrics=['accuracy'])\n",
    "\n",
    "gru_2 = Sequential()\n",
    "gru_2.add(embedding_layer)\n",
    "gru_2.add(GRU(100, dropout=0.2, recurrent_dropout=0.2))\n",
    "gru_2.add(Dense(NUM_CLASSES, activation='relu'))\n",
    "gru_2.compile(loss='binary_crossentropy', \n",
    "              optimizer= 'adam', \n",
    "              metrics=['accuracy'])"
   ]
  },
  {
   "cell_type": "code",
   "execution_count": null,
   "id": "b131e50d-d412-4eb3-a5ba-3ed7a16c3b18",
   "metadata": {},
   "outputs": [],
   "source": [
    "history_lstm_2 = []\n",
    "tmp = lstm_2.fit(X_train, y_train_ohe, validation_data=(X_test, y_test_ohe), epochs=6, batch_size=64)\n",
    "history_lstm_2.append(tmp)"
   ]
  },
  {
   "cell_type": "code",
   "execution_count": null,
   "id": "9b467689-7914-490a-856e-8a685e5d485f",
   "metadata": {},
   "outputs": [],
   "source": [
    "history_gru_2 = []\n",
    "tmp = gru_2.fit(X_train, y_train_ohe, validation_data=(X_test, y_test_ohe), epochs=6, batch_size=64)\n",
    "history_gru_2.append(tmp)"
   ]
  },
  {
   "cell_type": "markdown",
   "id": "6fe76bbc-7325-47a7-9cd1-14655c515818",
   "metadata": {},
   "source": [
    "[1 points] Using the best parameters and architecture from the RNN in the previous step, add a second recurrent chain to your RNN. The input to the second chain should be the output sequence of the first chain. Visualize the performance of training and validation sets versus the training iterations. "
   ]
  },
  {
   "cell_type": "code",
   "execution_count": null,
   "id": "34fdc5b4-3bcb-41c6-a0a8-225e865484ae",
   "metadata": {},
   "outputs": [],
   "source": [
    "# let's extend the training by a number of epochs\n",
    "tmp = rnn.fit(X_train, y_train_ohe, validation_data=(X_test, y_test_ohe), epochs=6, batch_size=64)\n",
    "history.append( tmp )"
   ]
  },
  {
   "cell_type": "markdown",
   "id": "26f60b82-dc73-4253-abda-93f940437333",
   "metadata": {},
   "source": [
    "[0.5 points] Use the method of train/test splitting and evaluation criteria that you argued for at the beginning of the lab."
   ]
  },
  {
   "cell_type": "markdown",
   "id": "7d636f93-979f-4c4b-89e5-6674f383f89c",
   "metadata": {},
   "source": [
    "[0.5 points] Run to convergence"
   ]
  },
  {
   "cell_type": "code",
   "execution_count": null,
   "id": "df107f6d-e737-4db8-943b-672209cb5053",
   "metadata": {},
   "outputs": [],
   "source": []
  },
  {
   "cell_type": "code",
   "execution_count": null,
   "id": "7c8a5cd8-d994-4803-baa1-aec8055211ab",
   "metadata": {},
   "outputs": [],
   "source": []
  },
  {
   "cell_type": "code",
   "execution_count": null,
   "id": "6066812c-f676-4781-962e-8f698f627939",
   "metadata": {},
   "outputs": [],
   "source": [
    "# combine all the history from training together\n",
    "combined = dict()\n",
    "for key in ['accuracy','val_accuracy','loss','val_loss']:\n",
    "    combined[key] = np.hstack([x.history[key] for x in history])"
   ]
  },
  {
   "cell_type": "code",
   "execution_count": null,
   "id": "b2562a43-cfab-47c7-abf9-2f34d5e5b045",
   "metadata": {},
   "outputs": [],
   "source": []
  },
  {
   "cell_type": "markdown",
   "id": "5c23601d-b3a6-422e-b50a-d2948bb1055b",
   "metadata": {},
   "source": [
    "[1 point]  Visualize the results of all the RNNs you trained.  "
   ]
  },
  {
   "cell_type": "code",
   "execution_count": null,
   "id": "f3cdbdb3-dff7-4e02-b4d5-496055247d89",
   "metadata": {},
   "outputs": [],
   "source": []
  },
  {
   "cell_type": "markdown",
   "id": "7a1f8645-9f14-416c-b001-de9a42b45aeb",
   "metadata": {},
   "source": [
    "## 3. Additional Analysis"
   ]
  },
  {
   "cell_type": "code",
   "execution_count": null,
   "id": "70e15783-116b-4b5a-992e-994cc1c555d4",
   "metadata": {},
   "outputs": [],
   "source": []
  }
 ],
 "metadata": {
  "kernelspec": {
   "display_name": "Python 3 (ipykernel)",
   "language": "python",
   "name": "python3"
  },
  "language_info": {
   "codemirror_mode": {
    "name": "ipython",
    "version": 3
   },
   "file_extension": ".py",
   "mimetype": "text/x-python",
   "name": "python",
   "nbconvert_exporter": "python",
   "pygments_lexer": "ipython3",
   "version": "3.9.13"
  }
 },
 "nbformat": 4,
 "nbformat_minor": 5
}
